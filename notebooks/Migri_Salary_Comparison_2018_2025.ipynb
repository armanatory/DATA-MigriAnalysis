{
 "cells": [
  {
   "cell_type": "markdown",
   "metadata": {},
   "source": [
    "# Analysis of Salary Requirements and Inflation (2018–2025)"
   ]
  },
  {
   "cell_type": "markdown",
   "metadata": {},
   "source": [
    "## Introduction\n",
    "\n",
    "The Finnish Immigration Service (Migri) updates the minimum salary requirements annually. For individuals and organizations affected by these changes, staying informed about trends and predictions is crucial.\n",
    "\n",
    "This notebook analyzes salary requirements for various residence permits, such as the Specialist, or the EU Blue Card, alongside inflation data in Finland from 2018 to 2025. The goal is to uncover trends and provide a foundation for forecasting future salary requirements."
   ]
  },
  {
   "cell_type": "markdown",
   "metadata": {},
   "source": [
    "### Import libraries and setup"
   ]
  },
  {
   "cell_type": "code",
   "execution_count": 1,
   "metadata": {},
   "outputs": [],
   "source": [
    "import pandas as pd\n",
    "import matplotlib.pyplot as plt"
   ]
  },
  {
   "cell_type": "code",
   "execution_count": 2,
   "metadata": {},
   "outputs": [],
   "source": [
    "file_path = '../data/migri_residence_premit_salary_requirements_2018_2025.csv'\n",
    "min_salaries_df = pd.read_csv(file_path)\n",
    "min_salaries_df['archive_date'] = pd.to_datetime(min_salaries_df['archive_date'], format='%d.%m.%Y')"
   ]
  },
  {
   "cell_type": "code",
   "execution_count": 3,
   "metadata": {},
   "outputs": [
    {
     "name": "stdout",
     "output_type": "stream",
     "text": [
      "Data Preview:\n"
     ]
    },
    {
     "data": {
      "text/html": [
       "<div>\n",
       "<style scoped>\n",
       "    .dataframe tbody tr th:only-of-type {\n",
       "        vertical-align: middle;\n",
       "    }\n",
       "\n",
       "    .dataframe tbody tr th {\n",
       "        vertical-align: top;\n",
       "    }\n",
       "\n",
       "    .dataframe thead th {\n",
       "        text-align: right;\n",
       "    }\n",
       "</style>\n",
       "<table border=\"1\" class=\"dataframe\">\n",
       "  <thead>\n",
       "    <tr style=\"text-align: right;\">\n",
       "      <th></th>\n",
       "      <th>archive_date</th>\n",
       "      <th>year</th>\n",
       "      <th>amount</th>\n",
       "      <th>type</th>\n",
       "      <th>archive_url</th>\n",
       "    </tr>\n",
       "  </thead>\n",
       "  <tbody>\n",
       "    <tr>\n",
       "      <th>17</th>\n",
       "      <td>2021-10-18</td>\n",
       "      <td>2021</td>\n",
       "      <td>4929</td>\n",
       "      <td>eu-n-sininenkortti</td>\n",
       "      <td>https://web.archive.org/web/20211018082255/htt...</td>\n",
       "    </tr>\n",
       "    <tr>\n",
       "      <th>12</th>\n",
       "      <td>2024-04-15</td>\n",
       "      <td>2024</td>\n",
       "      <td>5457</td>\n",
       "      <td>eu-n-sininenkortti</td>\n",
       "      <td>https://web.archive.org/web/20240415231053/htt...</td>\n",
       "    </tr>\n",
       "    <tr>\n",
       "      <th>0</th>\n",
       "      <td>2025-01-04</td>\n",
       "      <td>2025</td>\n",
       "      <td>3827</td>\n",
       "      <td>erityisasiantuntija</td>\n",
       "      <td>https://web.archive.org/web/20250104213951/htt...</td>\n",
       "    </tr>\n",
       "    <tr>\n",
       "      <th>32</th>\n",
       "      <td>2019-06-24</td>\n",
       "      <td>2019</td>\n",
       "      <td>1211</td>\n",
       "      <td>tyontekijan-oleskelulupa</td>\n",
       "      <td>https://web.archive.org/web/20190624111418/htt...</td>\n",
       "    </tr>\n",
       "    <tr>\n",
       "      <th>28</th>\n",
       "      <td>2023-10-03</td>\n",
       "      <td>2023</td>\n",
       "      <td>1331</td>\n",
       "      <td>tyontekijan-oleskelulupa</td>\n",
       "      <td>https://web.archive.org/web/20231003014901/htt...</td>\n",
       "    </tr>\n",
       "  </tbody>\n",
       "</table>\n",
       "</div>"
      ],
      "text/plain": [
       "   archive_date  year  amount                      type  \\\n",
       "17   2021-10-18  2021    4929        eu-n-sininenkortti   \n",
       "12   2024-04-15  2024    5457        eu-n-sininenkortti   \n",
       "0    2025-01-04  2025    3827       erityisasiantuntija   \n",
       "32   2019-06-24  2019    1211  tyontekijan-oleskelulupa   \n",
       "28   2023-10-03  2023    1331  tyontekijan-oleskelulupa   \n",
       "\n",
       "                                          archive_url  \n",
       "17  https://web.archive.org/web/20211018082255/htt...  \n",
       "12  https://web.archive.org/web/20240415231053/htt...  \n",
       "0   https://web.archive.org/web/20250104213951/htt...  \n",
       "32  https://web.archive.org/web/20190624111418/htt...  \n",
       "28  https://web.archive.org/web/20231003014901/htt...  "
      ]
     },
     "execution_count": 3,
     "metadata": {},
     "output_type": "execute_result"
    }
   ],
   "source": [
    "print(\"Data Preview:\")\n",
    "min_salaries_df.sample(5)"
   ]
  },
  {
   "cell_type": "code",
   "execution_count": 4,
   "metadata": {},
   "outputs": [
    {
     "data": {
      "text/html": [
       "<div>\n",
       "<style scoped>\n",
       "    .dataframe tbody tr th:only-of-type {\n",
       "        vertical-align: middle;\n",
       "    }\n",
       "\n",
       "    .dataframe tbody tr th {\n",
       "        vertical-align: top;\n",
       "    }\n",
       "\n",
       "    .dataframe thead th {\n",
       "        text-align: right;\n",
       "    }\n",
       "</style>\n",
       "<table border=\"1\" class=\"dataframe\">\n",
       "  <thead>\n",
       "    <tr style=\"text-align: right;\">\n",
       "      <th></th>\n",
       "      <th>archive_date</th>\n",
       "      <th>year</th>\n",
       "      <th>amount</th>\n",
       "      <th>type</th>\n",
       "      <th>archive_url</th>\n",
       "      <th>type_en</th>\n",
       "    </tr>\n",
       "  </thead>\n",
       "  <tbody>\n",
       "    <tr>\n",
       "      <th>23</th>\n",
       "      <td>2019-01-14</td>\n",
       "      <td>2019</td>\n",
       "      <td>4732</td>\n",
       "      <td>eu-n-sininenkortti</td>\n",
       "      <td>https://web.archive.org/web/20190114205503/htt...</td>\n",
       "      <td>EU Blue Card</td>\n",
       "    </tr>\n",
       "    <tr>\n",
       "      <th>13</th>\n",
       "      <td>2023-09-21</td>\n",
       "      <td>2023</td>\n",
       "      <td>5209</td>\n",
       "      <td>eu-n-sininenkortti</td>\n",
       "      <td>https://web.archive.org/web/20230921131802/htt...</td>\n",
       "      <td>EU Blue Card</td>\n",
       "    </tr>\n",
       "    <tr>\n",
       "      <th>2</th>\n",
       "      <td>2023-03-27</td>\n",
       "      <td>2023</td>\n",
       "      <td>3473</td>\n",
       "      <td>erityisasiantuntija</td>\n",
       "      <td>https://web.archive.org/web/20230327221202/htt...</td>\n",
       "      <td>Specialist</td>\n",
       "    </tr>\n",
       "    <tr>\n",
       "      <th>15</th>\n",
       "      <td>2022-12-07</td>\n",
       "      <td>2022</td>\n",
       "      <td>5069</td>\n",
       "      <td>eu-n-sininenkortti</td>\n",
       "      <td>https://web.archive.org/web/20221207174531/htt...</td>\n",
       "      <td>EU Blue Card</td>\n",
       "    </tr>\n",
       "    <tr>\n",
       "      <th>12</th>\n",
       "      <td>2024-04-15</td>\n",
       "      <td>2024</td>\n",
       "      <td>5457</td>\n",
       "      <td>eu-n-sininenkortti</td>\n",
       "      <td>https://web.archive.org/web/20240415231053/htt...</td>\n",
       "      <td>EU Blue Card</td>\n",
       "    </tr>\n",
       "  </tbody>\n",
       "</table>\n",
       "</div>"
      ],
      "text/plain": [
       "   archive_date  year  amount                 type  \\\n",
       "23   2019-01-14  2019    4732   eu-n-sininenkortti   \n",
       "13   2023-09-21  2023    5209   eu-n-sininenkortti   \n",
       "2    2023-03-27  2023    3473  erityisasiantuntija   \n",
       "15   2022-12-07  2022    5069   eu-n-sininenkortti   \n",
       "12   2024-04-15  2024    5457   eu-n-sininenkortti   \n",
       "\n",
       "                                          archive_url       type_en  \n",
       "23  https://web.archive.org/web/20190114205503/htt...  EU Blue Card  \n",
       "13  https://web.archive.org/web/20230921131802/htt...  EU Blue Card  \n",
       "2   https://web.archive.org/web/20230327221202/htt...    Specialist  \n",
       "15  https://web.archive.org/web/20221207174531/htt...  EU Blue Card  \n",
       "12  https://web.archive.org/web/20240415231053/htt...  EU Blue Card  "
      ]
     },
     "execution_count": 4,
     "metadata": {},
     "output_type": "execute_result"
    }
   ],
   "source": [
    "# Dictionary for translation\n",
    "translation_dict = {\n",
    "    'tyontekijan-oleskelulupa': 'Residence permit application for an employed person (TTOL)',\n",
    "    'erityisasiantuntija': 'Specialist',\n",
    "    'eu-n-sininenkortti': 'EU Blue Card'\n",
    "}\n",
    "\n",
    "# Add the new column with translations\n",
    "min_salaries_df['type_en'] = min_salaries_df['type'].map(translation_dict)\n",
    "\n",
    "min_salaries_df.sample(5)"
   ]
  },
  {
   "cell_type": "code",
   "execution_count": 5,
   "metadata": {},
   "outputs": [
    {
     "name": "stdout",
     "output_type": "stream",
     "text": [
      "\n",
      "Data Information:\n",
      "<class 'pandas.core.frame.DataFrame'>\n",
      "RangeIndex: 34 entries, 0 to 33\n",
      "Data columns (total 6 columns):\n",
      " #   Column        Non-Null Count  Dtype         \n",
      "---  ------        --------------  -----         \n",
      " 0   archive_date  34 non-null     datetime64[ns]\n",
      " 1   year          34 non-null     int64         \n",
      " 2   amount        34 non-null     int64         \n",
      " 3   type          34 non-null     object        \n",
      " 4   archive_url   34 non-null     object        \n",
      " 5   type_en       34 non-null     object        \n",
      "dtypes: datetime64[ns](1), int64(2), object(3)\n",
      "memory usage: 1.7+ KB\n"
     ]
    }
   ],
   "source": [
    "print(\"\\nData Information:\")\n",
    "min_salaries_df.info()"
   ]
  },
  {
   "cell_type": "code",
   "execution_count": 6,
   "metadata": {},
   "outputs": [
    {
     "data": {
      "image/png": "[encoded data removed]",
      "text/plain": [
       "<Figure size 1200x600 with 1 Axes>"
      ]
     },
     "metadata": {},
     "output_type": "display_data"
    }
   ],
   "source": [
    "# Sort by year and archive_date to get the latest entry for each year\n",
    "latest_salaries_df = min_salaries_df.sort_values(by=['year', 'archive_date'], ascending=[True, False]).drop_duplicates(subset=['year', 'type'])\n",
    "\n",
    "# Define colors for each type\n",
    "colors_dic = {\n",
    "    'EU Blue Card': 'blue',\n",
    "    'Specialist': 'green',\n",
    "    'Residence permit application for an employed person (TTOL)': 'orange'\n",
    "}\n",
    "\n",
    "# Plot the data\n",
    "plt.figure(figsize=(12, 6))\n",
    "for key, grp in latest_salaries_df.groupby('type_en'):\n",
    "    plt.plot(grp['year'], grp['amount'], label=key, color=colors_dic[key])\n",
    "\n",
    "plt.xlabel('Year')\n",
    "plt.ylabel('Amount (EUR)')\n",
    "plt.title('Latest Salary Requirements by Year and Type (2018–2025)')\n",
    "\n",
    "# Custom legend order\n",
    "handles, labels = plt.gca().get_legend_handles_labels()\n",
    "order = [labels.index('EU Blue Card'), labels.index('Specialist'), labels.index('Residence permit application for an employed person (TTOL)')]\n",
    "plt.legend([handles[idx] for idx in order], [labels[idx] for idx in order], bbox_to_anchor=(0.5, -0.15), loc='upper center', ncol=3)\n",
    "\n",
    "plt.grid(True)\n",
    "plt.show()"
   ]
  }
 ],
 "metadata": {
  "kernelspec": {
   "display_name": "datamigri",
   "language": "python",
   "name": "python3"
  },
  "language_info": {
   "codemirror_mode": {
    "name": "ipython",
    "version": 3
   },
   "file_extension": ".py",
   "mimetype": "text/x-python",
   "name": "python",
   "nbconvert_exporter": "python",
   "pygments_lexer": "ipython3",
   "version": "3.13.1"
  }
 },
 "nbformat": 4,
 "nbformat_minor": 2
}
