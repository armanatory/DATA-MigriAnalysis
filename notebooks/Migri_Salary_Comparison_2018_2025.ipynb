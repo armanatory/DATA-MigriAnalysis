{
 "cells": [
  {
   "cell_type": "markdown",
   "metadata": {},
   "source": [
    "# Analysis of Salary Requirements and Inflation (2018–2025)"
   ]
  },
  {
   "cell_type": "markdown",
   "metadata": {},
   "source": [
    "## Introduction\n",
    "\n",
    "The Finnish Immigration Service (Migri) updates the minimum salary requirements annually. For individuals and organizations affected by these changes, staying informed about trends and predictions is crucial.\n",
    "\n",
    "This notebook analyzes salary requirements for various residence permits, such as the Specialist, or the EU Blue Card, alongside inflation data in Finland from 2018 to 2025. The goal is to uncover trends and provide a foundation for forecasting future salary requirements."
   ]
  },
  {
   "cell_type": "markdown",
   "metadata": {},
   "source": []
  }
 ],
 "metadata": {
  "language_info": {
   "name": "python"
  }
 },
 "nbformat": 4,
 "nbformat_minor": 2
}
